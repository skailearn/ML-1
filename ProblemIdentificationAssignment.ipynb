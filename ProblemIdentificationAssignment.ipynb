{
 "cells": [
  {
   "cell_type": "code",
   "execution_count": null,
   "id": "56a1e681-edd6-496d-9335-00772402dc7c",
   "metadata": {},
   "outputs": [],
   "source": [
    "\"\"\"\n",
    "A Company works with number of employees, all the works are dependents on the employees.\n",
    "Even if one of the employees resign the job immediately then assigned work will not finished at the time.\n",
    "so delivery of the project to the clients will be delayed.\n",
    "Company planned to make a solution for this , they want to know which employee may resign next.\n",
    "If they know previously, they can arrange alternative to avoid such problem.\n",
    "As an AI Engineer you must give solution for this.\n",
    "\n",
    "\"\"\""
   ]
  },
  {
   "cell_type": "code",
   "execution_count": null,
   "id": "c37d1eb9-47e5-4fff-a36b-708f4950d151",
   "metadata": {},
   "outputs": [],
   "source": [
    "\"\"\"\n",
    "A) How will you achieve this in AI?\n",
    "\n",
    "    Steps :\n",
    "    1) By knowing each employees information like , Total Years of experience, Total years of experience in this company,\n",
    "       Education, skill set, salary, latest promotion date, Total number of months in current project,Latest performance rating.\n",
    "    2) With above mentioned inputs , predict output as \"Will Resign\" - Yes or No.\n",
    "    3) Once prediction is done. Call to action is identify similar skill set resource in company and make him as a back up for that person\n",
    "    \n",
    "    PREDICTION: Employee will resign - Yes or No\n",
    "    CALL to ACTION : if Yes , Create a back up plan for that employee.\n",
    "                        No - no action required.\n",
    "\n",
    "B) Find out the 3 Stage of problem identification.\n",
    "    \n",
    "    Stage 1 : Machine learning\n",
    "    Stage 2 : Supervised learning\n",
    "    Stage 3 : Classification (since category - will resign - YES or NO)\n",
    "\n",
    "C) Name the Project \n",
    "\n",
    "    Avoidence of Resignation impact on companies\n",
    "\n"
   ]
  },
  {
   "cell_type": "code",
   "execution_count": 7,
   "id": "9551bf92-4596-4d2a-8900-0bc472c686f3",
   "metadata": {},
   "outputs": [
    {
     "name": "stdout",
     "output_type": "stream",
     "text": [
      "         Name  Age  Total Yrs. Exp  Total Yrs. Company Exp  \\\n",
      "0    Tom jack   44              15                       5   \n",
      "1  Nick Stone   30               8                       1   \n",
      "\n",
      "                Skill set   Designation  Yrs. in current project  \\\n",
      "0  Java Javascript Python  Sr. Engineer                        2   \n",
      "1           Python DS, AI  Jr. Engineer                        1   \n",
      "\n",
      "  Department Name Latest Promotion Date Latest Performance Rating Will Resign  \n",
      "0            Bank            06/30/2024      Meets the Expecation         Yes  \n",
      "1       Insurance          Not Promoted     Exceed the Expecation          No  \n"
     ]
    }
   ],
   "source": [
    "\"\"\"\n",
    "D) Create a dummy data set\n",
    "\n",
    "\"\"\"\n",
    "# Import pandas library\n",
    "import pandas as pd\n",
    "\n",
    "# initialize list of lists\n",
    "data = [['Tom jack',44,15,5,'Java Javascript Python','Sr. Engineer',2,'Bank','06/30/2024','Meets the Expecation','Yes'],\n",
    "        ['Nick Stone',30,8,1,'Python DS, AI','Jr. Engineer',1,'Insurance','Not Promoted','Exceed the Expecation','No']] \n",
    "        \n",
    "\n",
    "# Create the pandas DataFrame\n",
    "df = pd.DataFrame(data, columns=['Name', 'Age','Total Yrs. Exp','Total Yrs. Company Exp','Skill set','Designation','Yrs. in current project','Department Name','Latest Promotion Date','Latest Performance Rating','Will Resign'])\n",
    "\n",
    "# print dataframe.\n",
    "print(df)"
   ]
  },
  {
   "cell_type": "code",
   "execution_count": null,
   "id": "f3bc34cd-e948-4ebd-9520-e8faa8699f8d",
   "metadata": {},
   "outputs": [],
   "source": []
  }
 ],
 "metadata": {
  "kernelspec": {
   "display_name": "Python 3 (ipykernel)",
   "language": "python",
   "name": "python3"
  },
  "language_info": {
   "codemirror_mode": {
    "name": "ipython",
    "version": 3
   },
   "file_extension": ".py",
   "mimetype": "text/x-python",
   "name": "python",
   "nbconvert_exporter": "python",
   "pygments_lexer": "ipython3",
   "version": "3.12.4"
  }
 },
 "nbformat": 4,
 "nbformat_minor": 5
}
